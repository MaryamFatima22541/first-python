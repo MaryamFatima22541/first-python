{
 "cells": [
  {
   "cell_type": "code",
   "execution_count": 1,
   "id": "43413d29-46bb-44ed-9900-21aa70d478bd",
   "metadata": {},
   "outputs": [
    {
     "name": "stdout",
     "output_type": "stream",
     "text": [
      "hello word\n"
     ]
    }
   ],
   "source": [
    "print(\"hello word\")\n"
   ]
  },
  {
   "cell_type": "code",
   "execution_count": 2,
   "id": "5a09b898-81ed-49f3-8f48-1f45e8f63ccb",
   "metadata": {},
   "outputs": [
    {
     "name": "stdout",
     "output_type": "stream",
     "text": [
      "1\n"
     ]
    }
   ],
   "source": [
    "x=1 \n",
    "print(x)"
   ]
  },
  {
   "cell_type": "code",
   "execution_count": 7,
   "id": "10431cfd-567e-4fcb-a32b-929995d12977",
   "metadata": {},
   "outputs": [
    {
     "name": "stdin",
     "output_type": "stream",
     "text": [
      "enter a number 9\n"
     ]
    }
   ],
   "source": [
    "x=input(\"enter a number\")"
   ]
  },
  {
   "cell_type": "code",
   "execution_count": 4,
   "id": "df2f646b-afb1-4bb6-ab98-ebf3f4f6cb0d",
   "metadata": {},
   "outputs": [
    {
     "name": "stdout",
     "output_type": "stream",
     "text": [
      "9\n"
     ]
    }
   ],
   "source": [
    "print(x)"
   ]
  },
  {
   "cell_type": "code",
   "execution_count": 5,
   "id": "706d9402-09fe-4ed6-85d1-1774a610210a",
   "metadata": {},
   "outputs": [
    {
     "name": "stdin",
     "output_type": "stream",
     "text": [
      "enter your name Maryam Fatima\n"
     ]
    },
    {
     "data": {
      "text/plain": [
       "'Maryam Fatima'"
      ]
     },
     "execution_count": 5,
     "metadata": {},
     "output_type": "execute_result"
    }
   ],
   "source": [
    "input(\"enter your name\")"
   ]
  },
  {
   "cell_type": "code",
   "execution_count": 6,
   "id": "8edc5de6-5ab2-4e48-ab0e-a42588d3bf67",
   "metadata": {},
   "outputs": [
    {
     "name": "stdout",
     "output_type": "stream",
     "text": [
      "10\n"
     ]
    }
   ],
   "source": [
    "a=5\n",
    "b=5\n",
    "c=a+b\n",
    "print(c)"
   ]
  },
  {
   "cell_type": "code",
   "execution_count": 8,
   "id": "1da14545-d35d-4e79-9c49-f786e76f53df",
   "metadata": {},
   "outputs": [
    {
     "name": "stdout",
     "output_type": "stream",
     "text": [
      "[1, 2, 3, 4, 5]\n"
     ]
    }
   ],
   "source": [
    "array=[1,2,3,4,5]\n",
    "print(array)"
   ]
  },
  {
   "cell_type": "code",
   "execution_count": 9,
   "id": "fc0fb883-dfa9-4a40-ba04-3bcfa96c529d",
   "metadata": {},
   "outputs": [
    {
     "name": "stdout",
     "output_type": "stream",
     "text": [
      "Hurab,Fatima\n"
     ]
    }
   ],
   "source": [
    "string=(\"Hurab,Fatima\")\n",
    "print (string)"
   ]
  },
  {
   "cell_type": "code",
   "execution_count": 13,
   "id": "f32ac7a0-04be-4909-be48-a4acf10469b8",
   "metadata": {},
   "outputs": [
    {
     "name": "stdout",
     "output_type": "stream",
     "text": [
      "h\n"
     ]
    }
   ],
   "source": [
    "p=(\"h\")\n",
    "print(p)"
   ]
  },
  {
   "cell_type": "code",
   "execution_count": 21,
   "id": "e3b75506-14dc-4430-a7b5-2f3670fbc3b2",
   "metadata": {},
   "outputs": [
    {
     "name": "stdout",
     "output_type": "stream",
     "text": [
      "('xyz', 'abc', 'cde')\n"
     ]
    }
   ],
   "source": [
    "a=('xyz','abc','cde')\n",
    "print(a)"
   ]
  },
  {
   "cell_type": "code",
   "execution_count": 29,
   "id": "a426489f-d223-4070-a74f-58936f8c8000",
   "metadata": {},
   "outputs": [
    {
     "name": "stdout",
     "output_type": "stream",
     "text": [
      "['xyz', '2', 'cde']\n"
     ]
    }
   ],
   "source": [
    "a[1]='2'\n",
    "print(a)"
   ]
  },
  {
   "cell_type": "code",
   "execution_count": 23,
   "id": "e72f4532-3016-452d-8b1c-1fb0ddb128e2",
   "metadata": {},
   "outputs": [
    {
     "name": "stdout",
     "output_type": "stream",
     "text": [
      "['xyz', 'abc', 'cde']\n"
     ]
    }
   ],
   "source": [
    "a=['xyz','abc','cde']\n",
    "print(a)"
   ]
  },
  {
   "cell_type": "code",
   "execution_count": 27,
   "id": "1767d324-2887-469a-8db8-54e3b5f43691",
   "metadata": {},
   "outputs": [
    {
     "name": "stdout",
     "output_type": "stream",
     "text": [
      "['xyz', 'fge', 'cde']\n"
     ]
    }
   ],
   "source": [
    "a[1]='fge'\n",
    "print(a)"
   ]
  },
  {
   "cell_type": "code",
   "execution_count": null,
   "id": "6009ab57-6578-4316-ab8d-852df0250172",
   "metadata": {},
   "outputs": [],
   "source": []
  }
 ],
 "metadata": {
  "kernelspec": {
   "display_name": "Python 3 (ipykernel)",
   "language": "python",
   "name": "python3"
  },
  "language_info": {
   "codemirror_mode": {
    "name": "ipython",
    "version": 3
   },
   "file_extension": ".py",
   "mimetype": "text/x-python",
   "name": "python",
   "nbconvert_exporter": "python",
   "pygments_lexer": "ipython3",
   "version": "3.13.2"
  }
 },
 "nbformat": 4,
 "nbformat_minor": 5
}
